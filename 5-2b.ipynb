{
 "cells": [
  {
   "cell_type": "code",
   "execution_count": null,
   "id": "74c48436",
   "metadata": {},
   "outputs": [
    {
     "name": "stdout",
     "output_type": "stream",
     "text": [
      "alpha*h*u*(alpha*u*InverseLaplaceTransform(exp(L*s**0.5/alpha**0.5)/(-s**4.5/alpha**0.5 + s**4*(s**0.5/alpha**0.5 - 1)*exp(2*L*s**0.5/alpha**0.5) - s**4), s, t, _None) + k*Derivative(InverseLaplaceTransform(-exp(s**0.5*(L - x)/alpha**0.5)/(s**4.5/alpha**0.5 - s**4*(s**0.5/alpha**0.5 - 1)*exp(2*L*s**0.5/alpha**0.5) + s**4), s, t, _None), (t, 2)) + k*Derivative(InverseLaplaceTransform(-exp(s**0.5*(L + x)/alpha**0.5)/(s**4.5/alpha**0.5 - s**4*(s**0.5/alpha**0.5 - 1)*exp(2*L*s**0.5/alpha**0.5) + s**4), s, t, _None), (t, 2)))/k**2\n"
     ]
    },
    {
     "ename": "",
     "evalue": "",
     "output_type": "error",
     "traceback": [
      "\u001b[1;31mThe Kernel crashed while executing code in the current cell or a previous cell. \n",
      "\u001b[1;31mPlease review the code in the cell(s) to identify a possible cause of the failure. \n",
      "\u001b[1;31mClick <a href='https://aka.ms/vscodeJupyterKernelCrash'>here</a> for more info. \n",
      "\u001b[1;31mView Jupyter <a href='command:jupyter.viewOutput'>log</a> for further details."
     ]
    }
   ],
   "source": [
    "# import inverse_laplace_transform\n",
    "from sympy.integrals.transforms import inverse_laplace_transform\n",
    "from sympy import exp, Symbol, sin\n",
    "from sympy.abc import s, t\n",
    "\n",
    "u = Symbol(\"u\")\n",
    "alpha = Symbol(\"alpha\", positive=True)\n",
    "h = Symbol(\"h\", positive=True)\n",
    "k = Symbol(\"k\", positive=True)\n",
    "x = Symbol(\"x\", positive=True)\n",
    "L = Symbol(\"L\", positive=True)\n",
    "\n",
    "m = (s / alpha) ** 0.5\n",
    "C = h * u * alpha / (k * s**2 * (exp(L * m) * (m - 1) - exp(-L * m) * (m + 1)))\n",
    "\n",
    "inverse = inverse_laplace_transform(\n",
    "    C * (exp(x * m) + exp(-x * m) + u * alpha / (k * s**2)), s, t\n",
    ")\n",
    "\n",
    "print(inverse)"
   ]
  }
 ],
 "metadata": {
  "kernelspec": {
   "display_name": ".venv",
   "language": "python",
   "name": "python3"
  },
  "language_info": {
   "codemirror_mode": {
    "name": "ipython",
    "version": 3
   },
   "file_extension": ".py",
   "mimetype": "text/x-python",
   "name": "python",
   "nbconvert_exporter": "python",
   "pygments_lexer": "ipython3",
   "version": "3.10.11"
  }
 },
 "nbformat": 4,
 "nbformat_minor": 5
}
