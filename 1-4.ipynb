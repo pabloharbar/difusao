{
 "cells": [
  {
   "cell_type": "code",
   "execution_count": null,
   "id": "83425147",
   "metadata": {},
   "outputs": [
    {
     "ename": "",
     "evalue": "",
     "output_type": "error",
     "traceback": [
      "\u001b[1;31mFailed to start the Kernel. \n",
      "\u001b[1;31mUnable to start Kernel '.venv (Python 3.10.11)' due to a timeout waiting for the ports to get used. \n",
      "\u001b[1;31mView Jupyter <a href='command:jupyter.viewOutput'>log</a> for further details."
     ]
    }
   ],
   "source": [
    "import matplotlib.pyplot as plt\n",
    "from sympy import lambdify\n",
    "import numpy as np\n",
    "from sympy import Function, dsolve, Derivative, solve\n",
    "from sympy.abc import x\n",
    "from sympy import Eq, Derivative, Function, exp, Symbol, pi\n",
    "\n",
    "y = Function(\"y\")\n",
    "dy = Derivative(y(x), x)\n",
    "dy2 = Derivative(y(x), x, x)\n",
    "\n",
    "g0 = 5e5\n",
    "k_c = 1\n",
    "k_m = 300\n",
    "b = 1\n",
    "x_c = 0.05\n",
    "x_m = 0.07\n",
    "h = 100\n",
    "\n",
    "Tinf = 793\n",
    "\n",
    "Tm = Symbol(\"Tm\")\n",
    "Tc = Tm + h / k_m * x_m * (Tm - Tinf) * (1 - x_m / x_c)\n",
    "dTc = -h * x_m**2 * (Tm - Tinf) / (k_m * x_c**2 * pi * 4 * x_c**2)\n",
    "\n",
    "eq1 = Eq(2 * x * dy + x**2 * dy2, -g0 * x**2 / k_c * exp(-b * x / x_c))\n",
    "result = dsolve(eq1, y(x), ics={y(x_c): Tc, Derivative(y(x), x).subs(x, x_c): dTc})\n",
    "\n",
    "print(\"Equação diferencial: \", eq1)\n",
    "print(\"Solução Geral: \", dsolve(eq1, y(x)))\n",
    "print(\"Solução Particular: \", result)\n",
    "\n",
    "Tm_val = solve(Eq(result.rhs.subs(x, x_c), Tc), Tm)[0]\n",
    "Tc_val = Tc.subs(Tm, Tm_val)\n",
    "\n",
    "print(\"Tm: \", Tm_val - 293)\n",
    "print(\"Tc: \", Tc_val - 293)\n",
    "\n",
    "y_func = lambdify(x, result.rhs.subs(Tm, Tm_val), modules=[\"numpy\"])\n",
    "x_vals = np.linspace(0, x_c, 50)\n",
    "y_vals = y_func(x_vals)\n",
    "\n",
    "rev_x_vals = np.linspace(x_c, x_m, 20)\n",
    "rev_y_vals = Tm_val + h * x_m * (Tm_val - Tinf) / k_m * (1 - x_m / rev_x_vals)\n",
    "\n",
    "full_x_vals = np.concatenate((x_vals, rev_x_vals))\n",
    "full_y_vals = np.concatenate((y_vals, rev_y_vals))\n",
    "\n",
    "fig, axs = plt.subplots(1, 3, figsize=(15, 5))\n",
    "\n",
    "axs[0].plot(x_vals, y_vals)\n",
    "axs[0].set_xlabel(\"r\")\n",
    "axs[0].set_ylabel(\"T\")\n",
    "\n",
    "axs[1].plot(rev_x_vals, rev_y_vals)\n",
    "axs[1].set_xlabel(\"r\")\n",
    "axs[1].set_ylabel(\"T\")\n",
    "\n",
    "axs[2].plot(full_x_vals, full_y_vals, \"r--\")\n",
    "axs[2].plot(x_vals, y_vals, \"b-\")\n",
    "axs[2].plot(rev_x_vals, rev_y_vals, \"g-\")\n",
    "axs[2].set_xlabel(\"r\")\n",
    "axs[2].set_ylabel(\"T\")\n",
    "axs[2].set_ylim([1400, 2000])\n",
    "\n",
    "plt.show()"
   ]
  }
 ],
 "metadata": {
  "kernelspec": {
   "display_name": ".venv",
   "language": "python",
   "name": "python3"
  },
  "language_info": {
   "codemirror_mode": {
    "name": "ipython",
    "version": 3
   },
   "file_extension": ".py",
   "mimetype": "text/x-python",
   "name": "python",
   "nbconvert_exporter": "python",
   "pygments_lexer": "ipython3",
   "version": "3.10.11"
  }
 },
 "nbformat": 4,
 "nbformat_minor": 5
}
